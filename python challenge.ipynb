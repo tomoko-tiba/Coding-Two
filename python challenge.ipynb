{
 "cells": [
  {
   "cell_type": "markdown",
   "id": "cd1af977",
   "metadata": {},
   "source": [
    "## Topic： snsueolnuwsfosnslnfluuerossuwflunfssnufulonfw"
   ]
  },
  {
   "cell_type": "markdown",
   "id": "485294f3",
   "metadata": {},
   "source": [
    "# Answering method: \n",
    "\n",
    "### Calculate the quantity of each letter separately and sort them by size. The word with the highest frequency of appearance is in the first position, and so on. The resulting word is the answer.。"
   ]
  },
  {
   "cell_type": "markdown",
   "id": "685f76aa",
   "metadata": {},
   "source": [
    "# "
   ]
  },
  {
   "cell_type": "code",
   "execution_count": 1,
   "id": "00b9e29c",
   "metadata": {},
   "outputs": [],
   "source": [
    "raw = 'snsueolnuwsfosnslnfluuerossuwflunfssnufulonfw'"
   ]
  },
  {
   "cell_type": "code",
   "execution_count": 2,
   "id": "ebee6754",
   "metadata": {
    "scrolled": true
   },
   "outputs": [
    {
     "name": "stdout",
     "output_type": "stream",
     "text": [
      "{'s': 9, 'u': 8, 'n': 7, 'f': 6, 'l': 5, 'o': 4, 'w': 3, 'e': 2, 'r': 1}\n",
      "sunflower\n"
     ]
    }
   ],
   "source": [
    "dict1 = {}\n",
    "\n",
    "for char in raw:\n",
    "    if char not in dict1:\n",
    "        dict1[char] = raw.count(char)\n",
    "\n",
    "def sortbyvalue(v_dict):\n",
    "    v_items = v_dict.items()\n",
    "    backuplist = [[i[1], i[0]] for i in list(v_items)]\n",
    "    backuplist.sort(reverse=True)\n",
    "    sortkey = [i[1] for i in backuplist]\n",
    "    sortvalue = [i[0] for i in backuplist]\n",
    "    return dict(zip(sortkey, sortvalue))\n",
    "\n",
    "dict1 = sortbyvalue(dict1)\n",
    "print(dict1)\n",
    "\n",
    "re = ''\n",
    "for key,values in dict1.items():\n",
    "    re += key\n",
    "    \n",
    "print(re)"
   ]
  },
  {
   "cell_type": "markdown",
   "id": "bafea458",
   "metadata": {},
   "source": [
    "# "
   ]
  },
  {
   "cell_type": "code",
   "execution_count": null,
   "id": "7dacd693",
   "metadata": {},
   "outputs": [],
   "source": []
  }
 ],
 "metadata": {
  "kernelspec": {
   "display_name": "Python 3 (ipykernel)",
   "language": "python",
   "name": "python3"
  },
  "language_info": {
   "codemirror_mode": {
    "name": "ipython",
    "version": 3
   },
   "file_extension": ".py",
   "mimetype": "text/x-python",
   "name": "python",
   "nbconvert_exporter": "python",
   "pygments_lexer": "ipython3",
   "version": "3.9.16"
  }
 },
 "nbformat": 4,
 "nbformat_minor": 5
}
